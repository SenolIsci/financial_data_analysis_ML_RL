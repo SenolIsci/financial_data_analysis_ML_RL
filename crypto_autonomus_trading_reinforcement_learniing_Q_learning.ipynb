{
  "cells": [
    {
      "cell_type": "markdown",
      "metadata": {
        "id": "view-in-github",
        "colab_type": "text"
      },
      "source": [
        "<a href=\"https://colab.research.google.com/github/SenolIsci/financial_data_analysis_ML_RL/blob/main/crypto_autonomus_trading_reinforcement_learniing_Q_learning.ipynb\" target=\"_parent\"><img src=\"https://colab.research.google.com/assets/colab-badge.svg\" alt=\"Open In Colab\"/></a>"
      ]
    },
    {
      "cell_type": "markdown",
      "source": [
        "#Reinforcement Learning (Q-Learning) in an Algorithmic Trading Framework"
      ],
      "metadata": {
        "id": "RTioxTK1iavH"
      }
    },
    {
      "cell_type": "code",
      "execution_count": null,
      "metadata": {
        "id": "AhFI5SiX4Uyh"
      },
      "outputs": [],
      "source": [
        "from google.colab import drive\n",
        "drive.mount('/content/gdrive')\n",
        "import os\n",
        "os.chdir('gdrive/My Drive/Colab Notebooks/Financial Engineering and AI/')\n",
        "!ls"
      ]
    },
    {
      "cell_type": "code",
      "execution_count": null,
      "metadata": {
        "id": "lKG-ydbihXDo"
      },
      "outputs": [],
      "source": [
        "import pandas as pd\n",
        "import numpy as np\n",
        "import matplotlib.pyplot as plt\n",
        "import itertools"
      ]
    },
    {
      "cell_type": "code",
      "execution_count": null,
      "metadata": {
        "id": "S3DqRzvvhZ85"
      },
      "outputs": [],
      "source": [
        "df0 = pd.read_csv('hitbtc_BTC_USDT_data_15m_1256.csv', index_col=\"timestamp\", parse_dates=True)\n"
      ]
    },
    {
      "cell_type": "code",
      "execution_count": null,
      "metadata": {
        "colab": {
          "base_uri": "https://localhost:8080/"
        },
        "id": "m_m3iihNMT5m",
        "outputId": "cc3d71e5-335a-4e60-d9b5-7e87b9226faa"
      },
      "outputs": [
        {
          "output_type": "execute_result",
          "data": {
            "text/plain": [
              "Index(['Close', 'High', 'Low', 'Open', 'Volume', 'VolumeQuote', 'TR', 'ATR_5',\n",
              "       'SLOPE_5', 'PATR_5', 'EMA_5', 'EMA_10', 'SO%k_14', 'SO%d_14_3',\n",
              "       'MACD_12_26', 'MACDsign_9_12_26', 'MACDdiff_12_26', 'Momentum_1',\n",
              "       'ROC_1', 'FI_10', 'ADX_10_14', 'PosDI', 'NegDI', 'RSI_10', 'MFI_12',\n",
              "       'Last', 'Indc_MACD_12_26', 'Indc_RSI_10', 'Indc_MFI_12', 'Indc_SO%k_14',\n",
              "       'Indc_DMI', 'Indc_MACDdiff_12_26', 'Indc_ADX_10_14', 'Indc_PATR_5',\n",
              "       'Indc_ATR_5', 'Indc_SLOPE_5', 'LocalMinMax'],\n",
              "      dtype='object')"
            ]
          },
          "metadata": {},
          "execution_count": 4
        }
      ],
      "source": [
        "df0.columns"
      ]
    },
    {
      "cell_type": "code",
      "execution_count": null,
      "metadata": {
        "id": "xOpODYQhutF5"
      },
      "outputs": [],
      "source": [
        "df0.dropna(axis=0, how='any', inplace=True)\n"
      ]
    },
    {
      "cell_type": "code",
      "execution_count": null,
      "metadata": {
        "id": "kiu-eVQ-vGvI"
      },
      "outputs": [],
      "source": [
        "df0.dropna(axis=1, how='any', inplace=True)"
      ]
    },
    {
      "cell_type": "code",
      "execution_count": null,
      "metadata": {
        "colab": {
          "base_uri": "https://localhost:8080/",
          "height": 282
        },
        "id": "vZPl26sK-h8z",
        "outputId": "1cc5ff89-a4cd-40e5-d036-744beb44b695"
      },
      "outputs": [
        {
          "output_type": "execute_result",
          "data": {
            "text/plain": [
              "[<matplotlib.lines.Line2D at 0x7efe3097de90>]"
            ]
          },
          "metadata": {},
          "execution_count": 7
        },
        {
          "output_type": "display_data",
          "data": {
            "text/plain": [
              "<Figure size 432x288 with 1 Axes>"
            ],
            "image/png": "[encoded data removed]"
          },
          "metadata": {
            "needs_background": "light"
          }
        }
      ],
      "source": [
        "plt.plot(df0['Close']) "
      ]
    },
    {
      "cell_type": "code",
      "execution_count": null,
      "metadata": {
        "colab": {
          "base_uri": "https://localhost:8080/",
          "height": 418
        },
        "id": "fVrRhl6SAZHS",
        "outputId": "9a4b6d0d-0cfc-41a2-93a9-24425f8121df"
      },
      "outputs": [
        {
          "output_type": "execute_result",
          "data": {
            "text/plain": [
              "                             Close     High      Low     Open  Volume  \\\n",
              "timestamp                                                               \n",
              "2019-01-14 04:30:00+00:00  3512.03  3514.97  3511.75  3513.50  107.95   \n",
              "2019-01-14 04:45:00+00:00  3516.34  3517.09  3511.40  3512.15   70.26   \n",
              "2019-01-14 05:00:00+00:00  3517.40  3524.86  3515.95  3516.85   12.08   \n",
              "2019-01-14 05:15:00+00:00  3520.46  3521.46  3515.09  3517.00    3.31   \n",
              "2019-01-14 05:30:00+00:00  3532.21  3537.00  3520.43  3520.43   95.42   \n",
              "\n",
              "                           VolumeQuote     TR  ATR_5  SLOPE_5    PATR_5  ...  \\\n",
              "timestamp                                                                ...   \n",
              "2019-01-14 04:30:00+00:00  379123.6385   3.22  3.996    1.315  0.113780  ...   \n",
              "2019-01-14 04:45:00+00:00  247058.0484   5.69  4.918    2.359  0.139861  ...   \n",
              "2019-01-14 05:00:00+00:00   42490.1920   8.91  5.878    1.927  0.167112  ...   \n",
              "2019-01-14 05:15:00+00:00   11652.7226   6.37  5.982    1.967  0.169921  ...   \n",
              "2019-01-14 05:30:00+00:00  337043.4782  16.57  8.152    4.448  0.230790  ...   \n",
              "\n",
              "                           Indc_RSI_10  Indc_MFI_12  Indc_SO%k_14  Indc_DMI  \\\n",
              "timestamp                                                                     \n",
              "2019-01-14 04:30:00+00:00      NEUTRAL      NEUTRAL       NEUTRAL   NEUTRAL   \n",
              "2019-01-14 04:45:00+00:00      NEUTRAL      NEUTRAL          SELL   NEUTRAL   \n",
              "2019-01-14 05:00:00+00:00         SELL      NEUTRAL       NEUTRAL   NEUTRAL   \n",
              "2019-01-14 05:15:00+00:00         SELL      NEUTRAL       NEUTRAL   NEUTRAL   \n",
              "2019-01-14 05:30:00+00:00         SELL      NEUTRAL       NEUTRAL   NEUTRAL   \n",
              "\n",
              "                           Indc_MACDdiff_12_26  Indc_ADX_10_14  Indc_PATR_5  \\\n",
              "timestamp                                                                     \n",
              "2019-01-14 04:30:00+00:00              NEUTRAL         BUYSELL      NEUTRAL   \n",
              "2019-01-14 04:45:00+00:00              NEUTRAL         BUYSELL      NEUTRAL   \n",
              "2019-01-14 05:00:00+00:00              NEUTRAL         BUYSELL      NEUTRAL   \n",
              "2019-01-14 05:15:00+00:00              NEUTRAL         BUYSELL      NEUTRAL   \n",
              "2019-01-14 05:30:00+00:00              NEUTRAL         BUYSELL      NEUTRAL   \n",
              "\n",
              "                           Indc_ATR_5  Indc_SLOPE_5  LocalMinMax  \n",
              "timestamp                                                         \n",
              "2019-01-14 04:30:00+00:00     NEUTRAL       NEUTRAL      NEUTRAL  \n",
              "2019-01-14 04:45:00+00:00     NEUTRAL       NEUTRAL      NEUTRAL  \n",
              "2019-01-14 05:00:00+00:00     NEUTRAL       NEUTRAL      NEUTRAL  \n",
              "2019-01-14 05:15:00+00:00     NEUTRAL       NEUTRAL      NEUTRAL  \n",
              "2019-01-14 05:30:00+00:00     NEUTRAL       NEUTRAL      NEUTRAL  \n",
              "\n",
              "[5 rows x 37 columns]"
            ],
            "text/html": [
              "\n",
              "  <div id=\"df-967cba4d-7454-47cc-8339-9985434d88b0\">\n",
              "    <div class=\"colab-df-container\">\n",
              "      <div>\n",
              "<style scoped>\n",
              "    .dataframe tbody tr th:only-of-type {\n",
              "        vertical-align: middle;\n",
              "    }\n",
              "\n",
              "    .dataframe tbody tr th {\n",
              "        vertical-align: top;\n",
              "    }\n",
              "\n",
              "    .dataframe thead th {\n",
              "        text-align: right;\n",
              "    }\n",
              "</style>\n",
              "<table border=\"1\" class=\"dataframe\">\n",
              "  <thead>\n",
              "    <tr style=\"text-align: right;\">\n",
              "      <th></th>\n",
              "      <th>Close</th>\n",
              "      <th>High</th>\n",
              "      <th>Low</th>\n",
              "      <th>Open</th>\n",
              "      <th>Volume</th>\n",
              "      <th>VolumeQuote</th>\n",
              "      <th>TR</th>\n",
              "      <th>ATR_5</th>\n",
              "      <th>SLOPE_5</th>\n",
              "      <th>PATR_5</th>\n",
              "      <th>...</th>\n",
              "      <th>Indc_RSI_10</th>\n",
              "      <th>Indc_MFI_12</th>\n",
              "      <th>Indc_SO%k_14</th>\n",
              "      <th>Indc_DMI</th>\n",
              "      <th>Indc_MACDdiff_12_26</th>\n",
              "      <th>Indc_ADX_10_14</th>\n",
              "      <th>Indc_PATR_5</th>\n",
              "      <th>Indc_ATR_5</th>\n",
              "      <th>Indc_SLOPE_5</th>\n",
              "      <th>LocalMinMax</th>\n",
              "    </tr>\n",
              "    <tr>\n",
              "      <th>timestamp</th>\n",
              "      <th></th>\n",
              "      <th></th>\n",
              "      <th></th>\n",
              "      <th></th>\n",
              "      <th></th>\n",
              "      <th></th>\n",
              "      <th></th>\n",
              "      <th></th>\n",
              "      <th></th>\n",
              "      <th></th>\n",
              "      <th></th>\n",
              "      <th></th>\n",
              "      <th></th>\n",
              "      <th></th>\n",
              "      <th></th>\n",
              "      <th></th>\n",
              "      <th></th>\n",
              "      <th></th>\n",
              "      <th></th>\n",
              "      <th></th>\n",
              "      <th></th>\n",
              "    </tr>\n",
              "  </thead>\n",
              "  <tbody>\n",
              "    <tr>\n",
              "      <th>2019-01-14 04:30:00+00:00</th>\n",
              "      <td>3512.03</td>\n",
              "      <td>3514.97</td>\n",
              "      <td>3511.75</td>\n",
              "      <td>3513.50</td>\n",
              "      <td>107.95</td>\n",
              "      <td>379123.6385</td>\n",
              "      <td>3.22</td>\n",
              "      <td>3.996</td>\n",
              "      <td>1.315</td>\n",
              "      <td>0.113780</td>\n",
              "      <td>...</td>\n",
              "      <td>NEUTRAL</td>\n",
              "      <td>NEUTRAL</td>\n",
              "      <td>NEUTRAL</td>\n",
              "      <td>NEUTRAL</td>\n",
              "      <td>NEUTRAL</td>\n",
              "      <td>BUYSELL</td>\n",
              "      <td>NEUTRAL</td>\n",
              "      <td>NEUTRAL</td>\n",
              "      <td>NEUTRAL</td>\n",
              "      <td>NEUTRAL</td>\n",
              "    </tr>\n",
              "    <tr>\n",
              "      <th>2019-01-14 04:45:00+00:00</th>\n",
              "      <td>3516.34</td>\n",
              "      <td>3517.09</td>\n",
              "      <td>3511.40</td>\n",
              "      <td>3512.15</td>\n",
              "      <td>70.26</td>\n",
              "      <td>247058.0484</td>\n",
              "      <td>5.69</td>\n",
              "      <td>4.918</td>\n",
              "      <td>2.359</td>\n",
              "      <td>0.139861</td>\n",
              "      <td>...</td>\n",
              "      <td>NEUTRAL</td>\n",
              "      <td>NEUTRAL</td>\n",
              "      <td>SELL</td>\n",
              "      <td>NEUTRAL</td>\n",
              "      <td>NEUTRAL</td>\n",
              "      <td>BUYSELL</td>\n",
              "      <td>NEUTRAL</td>\n",
              "      <td>NEUTRAL</td>\n",
              "      <td>NEUTRAL</td>\n",
              "      <td>NEUTRAL</td>\n",
              "    </tr>\n",
              "    <tr>\n",
              "      <th>2019-01-14 05:00:00+00:00</th>\n",
              "      <td>3517.40</td>\n",
              "      <td>3524.86</td>\n",
              "      <td>3515.95</td>\n",
              "      <td>3516.85</td>\n",
              "      <td>12.08</td>\n",
              "      <td>42490.1920</td>\n",
              "      <td>8.91</td>\n",
              "      <td>5.878</td>\n",
              "      <td>1.927</td>\n",
              "      <td>0.167112</td>\n",
              "      <td>...</td>\n",
              "      <td>SELL</td>\n",
              "      <td>NEUTRAL</td>\n",
              "      <td>NEUTRAL</td>\n",
              "      <td>NEUTRAL</td>\n",
              "      <td>NEUTRAL</td>\n",
              "      <td>BUYSELL</td>\n",
              "      <td>NEUTRAL</td>\n",
              "      <td>NEUTRAL</td>\n",
              "      <td>NEUTRAL</td>\n",
              "      <td>NEUTRAL</td>\n",
              "    </tr>\n",
              "    <tr>\n",
              "      <th>2019-01-14 05:15:00+00:00</th>\n",
              "      <td>3520.46</td>\n",
              "      <td>3521.46</td>\n",
              "      <td>3515.09</td>\n",
              "      <td>3517.00</td>\n",
              "      <td>3.31</td>\n",
              "      <td>11652.7226</td>\n",
              "      <td>6.37</td>\n",
              "      <td>5.982</td>\n",
              "      <td>1.967</td>\n",
              "      <td>0.169921</td>\n",
              "      <td>...</td>\n",
              "      <td>SELL</td>\n",
              "      <td>NEUTRAL</td>\n",
              "      <td>NEUTRAL</td>\n",
              "      <td>NEUTRAL</td>\n",
              "      <td>NEUTRAL</td>\n",
              "      <td>BUYSELL</td>\n",
              "      <td>NEUTRAL</td>\n",
              "      <td>NEUTRAL</td>\n",
              "      <td>NEUTRAL</td>\n",
              "      <td>NEUTRAL</td>\n",
              "    </tr>\n",
              "    <tr>\n",
              "      <th>2019-01-14 05:30:00+00:00</th>\n",
              "      <td>3532.21</td>\n",
              "      <td>3537.00</td>\n",
              "      <td>3520.43</td>\n",
              "      <td>3520.43</td>\n",
              "      <td>95.42</td>\n",
              "      <td>337043.4782</td>\n",
              "      <td>16.57</td>\n",
              "      <td>8.152</td>\n",
              "      <td>4.448</td>\n",
              "      <td>0.230790</td>\n",
              "      <td>...</td>\n",
              "      <td>SELL</td>\n",
              "      <td>NEUTRAL</td>\n",
              "      <td>NEUTRAL</td>\n",
              "      <td>NEUTRAL</td>\n",
              "      <td>NEUTRAL</td>\n",
              "      <td>BUYSELL</td>\n",
              "      <td>NEUTRAL</td>\n",
              "      <td>NEUTRAL</td>\n",
              "      <td>NEUTRAL</td>\n",
              "      <td>NEUTRAL</td>\n",
              "    </tr>\n",
              "  </tbody>\n",
              "</table>\n",
              "<p>5 rows × 37 columns</p>\n",
              "</div>\n",
              "      <button class=\"colab-df-convert\" onclick=\"convertToInteractive('df-967cba4d-7454-47cc-8339-9985434d88b0')\"\n",
              "              title=\"Convert this dataframe to an interactive table.\"\n",
              "              style=\"display:none;\">\n",
              "        \n",
              "  <svg xmlns=\"http://www.w3.org/2000/svg\" height=\"24px\"viewBox=\"0 0 24 24\"\n",
              "       width=\"24px\">\n",
              "    <path d=\"M0 0h24v24H0V0z\" fill=\"none\"/>\n",
              "    <path d=\"M18.56 5.44l.94 2.06.94-2.06 2.06-.94-2.06-.94-.94-2.06-.94 2.06-2.06.94zm-11 1L8.5 8.5l.94-2.06 2.06-.94-2.06-.94L8.5 2.5l-.94 2.06-2.06.94zm10 10l.94 2.06.94-2.06 2.06-.94-2.06-.94-.94-2.06-.94 2.06-2.06.94z\"/><path d=\"M17.41 7.96l-1.37-1.37c-.4-.4-.92-.59-1.43-.59-.52 0-1.04.2-1.43.59L10.3 9.45l-7.72 7.72c-.78.78-.78 2.05 0 2.83L4 21.41c.39.39.9.59 1.41.59.51 0 1.02-.2 1.41-.59l7.78-7.78 2.81-2.81c.8-.78.8-2.07 0-2.86zM5.41 20L4 18.59l7.72-7.72 1.47 1.35L5.41 20z\"/>\n",
              "  </svg>\n",
              "      </button>\n",
              "      \n",
              "  <style>\n",
              "    .colab-df-container {\n",
              "      display:flex;\n",
              "      flex-wrap:wrap;\n",
              "      gap: 12px;\n",
              "    }\n",
              "\n",
              "    .colab-df-convert {\n",
              "      background-color: #E8F0FE;\n",
              "      border: none;\n",
              "      border-radius: 50%;\n",
              "      cursor: pointer;\n",
              "      display: none;\n",
              "      fill: #1967D2;\n",
              "      height: 32px;\n",
              "      padding: 0 0 0 0;\n",
              "      width: 32px;\n",
              "    }\n",
              "\n",
              "    .colab-df-convert:hover {\n",
              "      background-color: #E2EBFA;\n",
              "      box-shadow: 0px 1px 2px rgba(60, 64, 67, 0.3), 0px 1px 3px 1px rgba(60, 64, 67, 0.15);\n",
              "      fill: #174EA6;\n",
              "    }\n",
              "\n",
              "    [theme=dark] .colab-df-convert {\n",
              "      background-color: #3B4455;\n",
              "      fill: #D2E3FC;\n",
              "    }\n",
              "\n",
              "    [theme=dark] .colab-df-convert:hover {\n",
              "      background-color: #434B5C;\n",
              "      box-shadow: 0px 1px 3px 1px rgba(0, 0, 0, 0.15);\n",
              "      filter: drop-shadow(0px 1px 2px rgba(0, 0, 0, 0.3));\n",
              "      fill: #FFFFFF;\n",
              "    }\n",
              "  </style>\n",
              "\n",
              "      <script>\n",
              "        const buttonEl =\n",
              "          document.querySelector('#df-967cba4d-7454-47cc-8339-9985434d88b0 button.colab-df-convert');\n",
              "        buttonEl.style.display =\n",
              "          google.colab.kernel.accessAllowed ? 'block' : 'none';\n",
              "\n",
              "        async function convertToInteractive(key) {\n",
              "          const element = document.querySelector('#df-967cba4d-7454-47cc-8339-9985434d88b0');\n",
              "          const dataTable =\n",
              "            await google.colab.kernel.invokeFunction('convertToInteractive',\n",
              "                                                     [key], {});\n",
              "          if (!dataTable) return;\n",
              "\n",
              "          const docLinkHtml = 'Like what you see? Visit the ' +\n",
              "            '<a target=\"_blank\" href=https://colab.research.google.com/notebooks/data_table.ipynb>data table notebook</a>'\n",
              "            + ' to learn more about interactive tables.';\n",
              "          element.innerHTML = '';\n",
              "          dataTable['output_type'] = 'display_data';\n",
              "          await google.colab.output.renderOutput(dataTable, element);\n",
              "          const docLink = document.createElement('div');\n",
              "          docLink.innerHTML = docLinkHtml;\n",
              "          element.appendChild(docLink);\n",
              "        }\n",
              "      </script>\n",
              "    </div>\n",
              "  </div>\n",
              "  "
            ]
          },
          "metadata": {},
          "execution_count": 8
        }
      ],
      "source": [
        "df0[0:10].head()"
      ]
    },
    {
      "cell_type": "code",
      "execution_count": null,
      "metadata": {
        "id": "RhArIA5uhbUt"
      },
      "outputs": [],
      "source": [
        "\n",
        "df0['log_return'] = np.log(df0['Close']).diff()"
      ]
    },
    {
      "cell_type": "code",
      "execution_count": null,
      "metadata": {
        "id": "JPUKkSH3CRu_"
      },
      "outputs": [],
      "source": [
        "df0.dropna(axis=0, how='any', inplace=True)"
      ]
    },
    {
      "cell_type": "code",
      "execution_count": null,
      "metadata": {
        "id": "pIdDBxYxhenN"
      },
      "outputs": [],
      "source": [
        "#features to be used as state. rewards are the stock log returns of 'Close' price.  \n",
        "feats = ['RSI_10','MACD_12_26']"
      ]
    },
    {
      "cell_type": "code",
      "execution_count": null,
      "metadata": {
        "id": "8zaKlqnYCaBz"
      },
      "outputs": [],
      "source": [
        "X_feat=df0[feats]"
      ]
    },
    {
      "cell_type": "code",
      "execution_count": null,
      "metadata": {
        "id": "2SSP6ZS6-TD-"
      },
      "outputs": [],
      "source": [
        "#from sklearn.preprocessing import StandardScaler,MinMaxScaler\n",
        "#scaler = MinMaxScaler()   #StandardScaler()\n",
        "#X_feat_array=scaler.fit_transform(df0[feats])\n",
        "#X_feat = pd.DataFrame(X_feat_array, columns = feats,index=df0.index)"
      ]
    },
    {
      "cell_type": "code",
      "execution_count": null,
      "metadata": {
        "id": "gIDgv8FvsRZV"
      },
      "outputs": [],
      "source": [
        "#create new dataframe\n",
        "df_returns=pd.concat([df0['log_return'],X_feat],axis=1)"
      ]
    },
    {
      "cell_type": "code",
      "execution_count": null,
      "metadata": {
        "colab": {
          "base_uri": "https://localhost:8080/",
          "height": 237
        },
        "id": "XGSp3x6U91Fb",
        "outputId": "71b09a88-a438-411c-b894-39aee2e9a21e"
      },
      "outputs": [
        {
          "output_type": "execute_result",
          "data": {
            "text/plain": [
              "                           log_return    RSI_10  MACD_12_26\n",
              "timestamp                                                  \n",
              "2019-01-14 04:45:00+00:00    0.001226  0.708640    3.706390\n",
              "2019-01-14 05:00:00+00:00    0.000301  0.838986    4.001531\n",
              "2019-01-14 05:15:00+00:00    0.000870  0.791108    4.417534\n",
              "2019-01-14 05:30:00+00:00    0.003332  0.907583    5.583387\n",
              "2019-01-14 05:45:00+00:00   -0.001629  0.907583    5.993945"
            ],
            "text/html": [
              "\n",
              "  <div id=\"df-ec9dfb52-bf77-4428-a134-e0d117f3aa73\">\n",
              "    <div class=\"colab-df-container\">\n",
              "      <div>\n",
              "<style scoped>\n",
              "    .dataframe tbody tr th:only-of-type {\n",
              "        vertical-align: middle;\n",
              "    }\n",
              "\n",
              "    .dataframe tbody tr th {\n",
              "        vertical-align: top;\n",
              "    }\n",
              "\n",
              "    .dataframe thead th {\n",
              "        text-align: right;\n",
              "    }\n",
              "</style>\n",
              "<table border=\"1\" class=\"dataframe\">\n",
              "  <thead>\n",
              "    <tr style=\"text-align: right;\">\n",
              "      <th></th>\n",
              "      <th>log_return</th>\n",
              "      <th>RSI_10</th>\n",
              "      <th>MACD_12_26</th>\n",
              "    </tr>\n",
              "    <tr>\n",
              "      <th>timestamp</th>\n",
              "      <th></th>\n",
              "      <th></th>\n",
              "      <th></th>\n",
              "    </tr>\n",
              "  </thead>\n",
              "  <tbody>\n",
              "    <tr>\n",
              "      <th>2019-01-14 04:45:00+00:00</th>\n",
              "      <td>0.001226</td>\n",
              "      <td>0.708640</td>\n",
              "      <td>3.706390</td>\n",
              "    </tr>\n",
              "    <tr>\n",
              "      <th>2019-01-14 05:00:00+00:00</th>\n",
              "      <td>0.000301</td>\n",
              "      <td>0.838986</td>\n",
              "      <td>4.001531</td>\n",
              "    </tr>\n",
              "    <tr>\n",
              "      <th>2019-01-14 05:15:00+00:00</th>\n",
              "      <td>0.000870</td>\n",
              "      <td>0.791108</td>\n",
              "      <td>4.417534</td>\n",
              "    </tr>\n",
              "    <tr>\n",
              "      <th>2019-01-14 05:30:00+00:00</th>\n",
              "      <td>0.003332</td>\n",
              "      <td>0.907583</td>\n",
              "      <td>5.583387</td>\n",
              "    </tr>\n",
              "    <tr>\n",
              "      <th>2019-01-14 05:45:00+00:00</th>\n",
              "      <td>-0.001629</td>\n",
              "      <td>0.907583</td>\n",
              "      <td>5.993945</td>\n",
              "    </tr>\n",
              "  </tbody>\n",
              "</table>\n",
              "</div>\n",
              "      <button class=\"colab-df-convert\" onclick=\"convertToInteractive('df-ec9dfb52-bf77-4428-a134-e0d117f3aa73')\"\n",
              "              title=\"Convert this dataframe to an interactive table.\"\n",
              "              style=\"display:none;\">\n",
              "        \n",
              "  <svg xmlns=\"http://www.w3.org/2000/svg\" height=\"24px\"viewBox=\"0 0 24 24\"\n",
              "       width=\"24px\">\n",
              "    <path d=\"M0 0h24v24H0V0z\" fill=\"none\"/>\n",
              "    <path d=\"M18.56 5.44l.94 2.06.94-2.06 2.06-.94-2.06-.94-.94-2.06-.94 2.06-2.06.94zm-11 1L8.5 8.5l.94-2.06 2.06-.94-2.06-.94L8.5 2.5l-.94 2.06-2.06.94zm10 10l.94 2.06.94-2.06 2.06-.94-2.06-.94-.94-2.06-.94 2.06-2.06.94z\"/><path d=\"M17.41 7.96l-1.37-1.37c-.4-.4-.92-.59-1.43-.59-.52 0-1.04.2-1.43.59L10.3 9.45l-7.72 7.72c-.78.78-.78 2.05 0 2.83L4 21.41c.39.39.9.59 1.41.59.51 0 1.02-.2 1.41-.59l7.78-7.78 2.81-2.81c.8-.78.8-2.07 0-2.86zM5.41 20L4 18.59l7.72-7.72 1.47 1.35L5.41 20z\"/>\n",
              "  </svg>\n",
              "      </button>\n",
              "      \n",
              "  <style>\n",
              "    .colab-df-container {\n",
              "      display:flex;\n",
              "      flex-wrap:wrap;\n",
              "      gap: 12px;\n",
              "    }\n",
              "\n",
              "    .colab-df-convert {\n",
              "      background-color: #E8F0FE;\n",
              "      border: none;\n",
              "      border-radius: 50%;\n",
              "      cursor: pointer;\n",
              "      display: none;\n",
              "      fill: #1967D2;\n",
              "      height: 32px;\n",
              "      padding: 0 0 0 0;\n",
              "      width: 32px;\n",
              "    }\n",
              "\n",
              "    .colab-df-convert:hover {\n",
              "      background-color: #E2EBFA;\n",
              "      box-shadow: 0px 1px 2px rgba(60, 64, 67, 0.3), 0px 1px 3px 1px rgba(60, 64, 67, 0.15);\n",
              "      fill: #174EA6;\n",
              "    }\n",
              "\n",
              "    [theme=dark] .colab-df-convert {\n",
              "      background-color: #3B4455;\n",
              "      fill: #D2E3FC;\n",
              "    }\n",
              "\n",
              "    [theme=dark] .colab-df-convert:hover {\n",
              "      background-color: #434B5C;\n",
              "      box-shadow: 0px 1px 3px 1px rgba(0, 0, 0, 0.15);\n",
              "      filter: drop-shadow(0px 1px 2px rgba(0, 0, 0, 0.3));\n",
              "      fill: #FFFFFF;\n",
              "    }\n",
              "  </style>\n",
              "\n",
              "      <script>\n",
              "        const buttonEl =\n",
              "          document.querySelector('#df-ec9dfb52-bf77-4428-a134-e0d117f3aa73 button.colab-df-convert');\n",
              "        buttonEl.style.display =\n",
              "          google.colab.kernel.accessAllowed ? 'block' : 'none';\n",
              "\n",
              "        async function convertToInteractive(key) {\n",
              "          const element = document.querySelector('#df-ec9dfb52-bf77-4428-a134-e0d117f3aa73');\n",
              "          const dataTable =\n",
              "            await google.colab.kernel.invokeFunction('convertToInteractive',\n",
              "                                                     [key], {});\n",
              "          if (!dataTable) return;\n",
              "\n",
              "          const docLinkHtml = 'Like what you see? Visit the ' +\n",
              "            '<a target=\"_blank\" href=https://colab.research.google.com/notebooks/data_table.ipynb>data table notebook</a>'\n",
              "            + ' to learn more about interactive tables.';\n",
              "          element.innerHTML = '';\n",
              "          dataTable['output_type'] = 'display_data';\n",
              "          await google.colab.output.renderOutput(dataTable, element);\n",
              "          const docLink = document.createElement('div');\n",
              "          docLink.innerHTML = docLinkHtml;\n",
              "          element.appendChild(docLink);\n",
              "        }\n",
              "      </script>\n",
              "    </div>\n",
              "  </div>\n",
              "  "
            ]
          },
          "metadata": {},
          "execution_count": 15
        }
      ],
      "source": [
        "df_returns.head()"
      ]
    },
    {
      "cell_type": "code",
      "execution_count": null,
      "metadata": {
        "id": "PswMq0UuC-o-"
      },
      "outputs": [],
      "source": [
        "#PARAMETERS\n",
        "test_percentage=0.2\n",
        "\n",
        "#State Discritizer\n",
        "n_bins=6\n",
        "n_samples=1000  #number of state samples collcted by randomly selecting actions\n",
        "\n",
        "#environment and agent params\n",
        "num_episodes = 100\n",
        "gamma = 0.7  # discount rate\n",
        "epsilon = 0.1 #epsilon greedy \n",
        "learning_rate =  1e-1    #Q-learning update rate\n",
        "action_space=[0, 1, 2] # BUY, SELL, HOLD"
      ]
    },
    {
      "cell_type": "code",
      "execution_count": null,
      "metadata": {
        "id": "wmG-1LyVhdIE"
      },
      "outputs": [],
      "source": [
        "# split into train and test\n",
        "Ntest = int(len(df_returns)*test_percentage)\n",
        "train_data = df_returns.iloc[:-Ntest]\n",
        "test_data = df_returns.iloc[-Ntest:]"
      ]
    },
    {
      "cell_type": "code",
      "execution_count": null,
      "metadata": {
        "id": "MFKmicUfhgNH"
      },
      "outputs": [],
      "source": [
        "class Env:\n",
        "  def __init__(self, df):\n",
        "    self.df = df\n",
        "    self.n = len(df)\n",
        "    self.current_idx = 0\n",
        "    self.action_space = action_space\n",
        "    self.invested = 0\n",
        "\n",
        "    self.states = self.df[feats].to_numpy()\n",
        "    self.rewards = self.df['log_return'].to_numpy()\n",
        "    # buy and hold return\n",
        "    self.total_buy_and_hold = 0\n",
        "\n",
        "  def reset(self):\n",
        "    self.current_idx = 0\n",
        "    self.total_buy_and_hold = 0\n",
        "    return self.states[self.current_idx]\n",
        "\n",
        "  def step(self, action):\n",
        "    # need to return (next_state, reward, done)\n",
        "\n",
        "    self.current_idx += 1\n",
        "    if self.current_idx >= self.n:\n",
        "      raise Exception(\"Episode already done\")\n",
        "\n",
        "    if action == 0: # BUY\n",
        "      self.invested = 1\n",
        "    elif action == 1: # SELL\n",
        "      self.invested = 0\n",
        "    \n",
        "    # compute reward\n",
        "    if self.invested:\n",
        "      reward = self.rewards[self.current_idx]\n",
        "    else:\n",
        "      reward = 0\n",
        "\n",
        "    # state transition\n",
        "    next_state = self.states[self.current_idx]\n",
        "\n",
        "        # baseline\n",
        "    self.total_buy_and_hold += self.rewards[self.current_idx]\n",
        "\n",
        "    done = (self.current_idx == self.n - 1)\n",
        "    return next_state, reward, done"
      ]
    },
    {
      "cell_type": "code",
      "execution_count": null,
      "metadata": {
        "id": "Hf2jBx2Hh16C"
      },
      "outputs": [],
      "source": [
        "class StateDiscritizer:\n",
        "  #class to discritize continuous states to discrete states by binning for Q-table. States vs Actions tables. \n",
        "  def __init__(self, env, n_bins=n_bins, n_samples=n_samples):\n",
        "    # first, collect sample states from the environment\n",
        "    states = []\n",
        "    done = False\n",
        "    s = env.reset()\n",
        "    self.D = len(s) # number of elements we need to bin\n",
        "    states.append(s)\n",
        "    for _ in range(n_samples):\n",
        "      a = np.random.choice(env.action_space)\n",
        "      s2, _, done = env.step(a)\n",
        "      states.append(s2)\n",
        "      if done:\n",
        "        s = env.reset()\n",
        "        states.append(s)\n",
        "\n",
        "    # convert to numpy array for easy indexing\n",
        "    states = np.array(states)\n",
        "\n",
        "    # create the bins for each dimension\n",
        "    self.bins = []\n",
        "    for d in range(self.D):\n",
        "      column = np.sort(states[:,d])\n",
        "\n",
        "      # find the boundaries for each bin\n",
        "      current_bin = []\n",
        "      for k in range(n_bins):\n",
        "        boundary = column[int(n_samples / n_bins * (k + 0.5))]\n",
        "        current_bin.append(boundary)\n",
        "\n",
        "      self.bins.append(current_bin)\n",
        "\n",
        "\n",
        "  def transform(self, state):\n",
        "    x = np.zeros(self.D)\n",
        "    for d in range(self.D):\n",
        "      x[d] = int(np.digitize(state[d], self.bins[d]))\n",
        "    return tuple(x)\n",
        "\n",
        "\n",
        "  def all_possible_states(self):\n",
        "    list_of_bins = []\n",
        "    for d in range(self.D):\n",
        "      list_of_bins.append(list(range(len(self.bins[d]) + 1)))\n",
        "    # print(list_of_bins)\n",
        "    return itertools.product(*list_of_bins)"
      ]
    },
    {
      "cell_type": "code",
      "execution_count": null,
      "metadata": {
        "id": "Km8vhEZ0jc0X"
      },
      "outputs": [],
      "source": [
        "class Agent:\n",
        "  def __init__(self, action_size, state_discr):\n",
        "    self.action_size = action_size\n",
        "    self.gamma = gamma  # discount rate\n",
        "    self.epsilon = epsilon\n",
        "    self.learning_rate =  learning_rate\n",
        "    self.state_discr = state_discr\n",
        "\n",
        "    # initialize Q-table randomly\n",
        "    self.Q = {}\n",
        "    for s in self.state_discr.all_possible_states():\n",
        "      s = tuple(s)\n",
        "      for a in range(self.action_size):\n",
        "        self.Q[(s,a)] = np.random.randn()\n",
        "\n",
        "  def act(self, state):\n",
        "    if np.random.rand() <= self.epsilon:\n",
        "      return np.random.choice(self.action_size)\n",
        "\n",
        "    s = self.state_discr.transform(state)\n",
        "    act_values = [self.Q[(s,a)] for a in range(self.action_size)]\n",
        "    return np.argmax(act_values)  # returns action\n",
        "\n",
        "  def train(self, state, action, reward, next_state, done):\n",
        "    s = self.state_discr.transform(state)\n",
        "    s2 = self.state_discr.transform(next_state)\n",
        "\n",
        "    if done:\n",
        "      target = reward\n",
        "    else:\n",
        "      act_values = [self.Q[(s2,a)] for a in range(self.action_size)]\n",
        "      target = reward + self.gamma * np.amax(act_values)\n",
        "\n",
        "    # Run one training step\n",
        "    self.Q[(s,action)] += self.learning_rate * (target - self.Q[(s,action)])"
      ]
    },
    {
      "cell_type": "code",
      "execution_count": null,
      "metadata": {
        "id": "JdFpCRUAj2b3"
      },
      "outputs": [],
      "source": [
        "def play_one_episode(agent, env, is_train):\n",
        "  state = env.reset()\n",
        "  done = False\n",
        "  total_reward = 0\n",
        "\n",
        "  while not done:\n",
        "    action = agent.act(state)\n",
        "    next_state, reward, done = env.step(action)\n",
        "    total_reward += reward\n",
        "    if is_train:\n",
        "      agent.train(state, action, reward, next_state, done)\n",
        "    state = next_state\n",
        "\n",
        "  return total_reward"
      ]
    },
    {
      "cell_type": "code",
      "execution_count": null,
      "metadata": {
        "id": "OsWKAgG4j8iC"
      },
      "outputs": [],
      "source": [
        "train_env = Env(train_data)\n",
        "test_env = Env(test_data)"
      ]
    },
    {
      "cell_type": "code",
      "execution_count": null,
      "metadata": {
        "id": "G3y2acdekASs"
      },
      "outputs": [],
      "source": [
        "action_size = len(train_env.action_space)\n",
        "state_discr = StateDiscritizer(train_env)\n",
        "agent = Agent(action_size, state_discr)"
      ]
    },
    {
      "cell_type": "code",
      "execution_count": null,
      "metadata": {
        "id": "gfLKH_7jrkGw"
      },
      "outputs": [],
      "source": [
        "train_rewards = np.empty(num_episodes)\n",
        "test_rewards = np.empty(num_episodes)"
      ]
    },
    {
      "cell_type": "code",
      "execution_count": null,
      "metadata": {
        "colab": {
          "base_uri": "https://localhost:8080/"
        },
        "id": "QAIMvbElro1v",
        "outputId": "9be0c71f-1cbf-4ca9-f3e9-93f1f43b8bad"
      },
      "outputs": [
        {
          "output_type": "stream",
          "name": "stdout",
          "text": [
            "eps: 1/100, train: 0.11902, test: -0.12366\n",
            "eps: 2/100, train: -0.22457, test: -0.26126\n",
            "eps: 3/100, train: 0.16587, test: -0.13975\n",
            "eps: 4/100, train: -0.05426, test: -0.01529\n",
            "eps: 5/100, train: -0.63078, test: -0.05560\n",
            "eps: 6/100, train: 0.15028, test: -0.17132\n",
            "eps: 7/100, train: -0.10273, test: -0.00785\n",
            "eps: 8/100, train: 0.63096, test: -0.12734\n",
            "eps: 9/100, train: 0.17741, test: -0.03178\n",
            "eps: 10/100, train: -0.60955, test: -0.05716\n",
            "eps: 11/100, train: -0.51232, test: 0.41900\n",
            "eps: 12/100, train: -0.14114, test: 0.02132\n",
            "eps: 13/100, train: -0.41139, test: -0.16039\n",
            "eps: 14/100, train: -0.64059, test: -0.25039\n",
            "eps: 15/100, train: 1.26020, test: 0.00155\n",
            "eps: 16/100, train: -0.40126, test: -0.00033\n",
            "eps: 17/100, train: 0.48894, test: 0.00436\n",
            "eps: 18/100, train: -0.62012, test: -0.26914\n",
            "eps: 19/100, train: 0.18598, test: 0.06556\n",
            "eps: 20/100, train: 0.21751, test: -0.01138\n",
            "eps: 21/100, train: 0.16958, test: -0.02540\n",
            "eps: 22/100, train: 0.34907, test: -0.26413\n",
            "eps: 23/100, train: 0.00031, test: 0.16311\n",
            "eps: 24/100, train: 0.10646, test: -0.01313\n",
            "eps: 25/100, train: 0.47536, test: 0.04800\n",
            "eps: 26/100, train: 0.25551, test: -0.12164\n",
            "eps: 27/100, train: -0.12031, test: -0.00196\n",
            "eps: 28/100, train: -0.33855, test: -0.26185\n",
            "eps: 29/100, train: 0.05088, test: -0.00290\n",
            "eps: 30/100, train: 0.20468, test: -0.19018\n",
            "eps: 31/100, train: 0.31343, test: -0.20214\n",
            "eps: 32/100, train: -0.05578, test: 0.03583\n",
            "eps: 33/100, train: -0.24174, test: 0.00314\n",
            "eps: 34/100, train: 0.11664, test: -0.11892\n",
            "eps: 35/100, train: -0.34450, test: 0.02407\n",
            "eps: 36/100, train: 0.45029, test: -0.00168\n",
            "eps: 37/100, train: -0.58420, test: -0.01684\n",
            "eps: 38/100, train: 0.26939, test: -0.14348\n",
            "eps: 39/100, train: -0.37330, test: 0.02306\n",
            "eps: 40/100, train: 0.02490, test: 0.00401\n",
            "eps: 41/100, train: 0.05632, test: -0.25054\n",
            "eps: 42/100, train: -0.50554, test: 0.06554\n",
            "eps: 43/100, train: 0.07658, test: -0.00447\n",
            "eps: 44/100, train: -0.35018, test: 0.00213\n",
            "eps: 45/100, train: 0.03729, test: -0.41671\n",
            "eps: 46/100, train: 0.00144, test: 0.00735\n",
            "eps: 47/100, train: 0.18027, test: 0.12589\n",
            "eps: 48/100, train: -0.00245, test: 0.03481\n",
            "eps: 49/100, train: -0.24246, test: 0.05554\n",
            "eps: 50/100, train: -0.11121, test: 0.00000\n",
            "eps: 51/100, train: -0.25299, test: -0.14155\n",
            "eps: 52/100, train: -0.00580, test: -0.00547\n",
            "eps: 53/100, train: -0.18605, test: -0.18560\n",
            "eps: 54/100, train: 0.01442, test: -0.00547\n",
            "eps: 55/100, train: -0.72092, test: 0.02596\n",
            "eps: 56/100, train: 0.22171, test: 0.01325\n",
            "eps: 57/100, train: 0.52584, test: 0.00020\n",
            "eps: 58/100, train: 0.31408, test: -0.32479\n",
            "eps: 59/100, train: 0.00954, test: 0.01439\n",
            "eps: 60/100, train: 0.46041, test: -0.14075\n",
            "eps: 61/100, train: 0.44587, test: -0.21252\n",
            "eps: 62/100, train: 0.05388, test: -0.26985\n",
            "eps: 63/100, train: 0.76627, test: -0.01256\n",
            "eps: 64/100, train: -0.32773, test: -0.10947\n",
            "eps: 65/100, train: -0.57856, test: -0.03314\n",
            "eps: 66/100, train: -0.31480, test: -0.54924\n",
            "eps: 67/100, train: 0.63178, test: -0.00086\n",
            "eps: 68/100, train: 0.18237, test: -0.18908\n",
            "eps: 69/100, train: 0.04541, test: 0.00781\n",
            "eps: 70/100, train: 0.00717, test: -0.14272\n",
            "eps: 71/100, train: -0.50700, test: -0.30345\n",
            "eps: 72/100, train: 0.70455, test: -0.30394\n",
            "eps: 73/100, train: 0.21413, test: -0.00528\n",
            "eps: 74/100, train: -0.11200, test: -0.11009\n",
            "eps: 75/100, train: -0.12293, test: -0.03312\n",
            "eps: 76/100, train: -0.31036, test: -0.00398\n",
            "eps: 77/100, train: -0.26950, test: -0.00524\n",
            "eps: 78/100, train: -0.32565, test: -0.00575\n",
            "eps: 79/100, train: 0.18552, test: 0.03521\n",
            "eps: 80/100, train: 0.51378, test: -0.25540\n",
            "eps: 81/100, train: 0.10641, test: 0.04406\n",
            "eps: 82/100, train: 0.25735, test: -0.00909\n",
            "eps: 83/100, train: -0.40841, test: -0.01109\n",
            "eps: 84/100, train: 0.34554, test: -0.00072\n",
            "eps: 85/100, train: 0.28630, test: 0.02093\n",
            "eps: 86/100, train: 0.13545, test: 0.00854\n",
            "eps: 87/100, train: 0.39479, test: 0.00000\n",
            "eps: 88/100, train: 0.40898, test: 0.00619\n",
            "eps: 89/100, train: 0.50425, test: 0.02708\n",
            "eps: 90/100, train: 0.14807, test: -0.31553\n",
            "eps: 91/100, train: 0.48400, test: 0.05679\n",
            "eps: 92/100, train: 0.09380, test: -0.00261\n",
            "eps: 93/100, train: -0.11925, test: 0.02887\n",
            "eps: 94/100, train: -0.08126, test: -0.07808\n",
            "eps: 95/100, train: 0.29268, test: -0.29236\n",
            "eps: 96/100, train: -0.25276, test: -0.01138\n",
            "eps: 97/100, train: -0.40727, test: 0.00854\n",
            "eps: 98/100, train: 0.36412, test: 0.00000\n",
            "eps: 99/100, train: 0.02956, test: -0.29950\n",
            "eps: 100/100, train: 0.60925, test: -0.45387\n"
          ]
        }
      ],
      "source": [
        "for e in range(num_episodes):\n",
        "  r = play_one_episode(agent, train_env, is_train=True)\n",
        "  train_rewards[e] = r\n",
        "\n",
        "  # test on the test set\n",
        "  tmp_epsilon = agent.epsilon\n",
        "  agent.epsilon = 0.\n",
        "  tr = play_one_episode(agent, test_env, is_train=False)\n",
        "  agent.epsilon = tmp_epsilon\n",
        "  test_rewards[e] = tr\n",
        "\n",
        "  print(f\"eps: {e + 1}/{num_episodes}, train: {r:.5f}, test: {tr:.5f}\")"
      ]
    },
    {
      "cell_type": "code",
      "execution_count": null,
      "metadata": {
        "colab": {
          "base_uri": "https://localhost:8080/",
          "height": 265
        },
        "id": "6dERWoL9sKn0",
        "outputId": "07525c8a-2790-43f3-e35f-b7be80c6829f"
      },
      "outputs": [
        {
          "output_type": "display_data",
          "data": {
            "text/plain": [
              "<Figure size 432x288 with 1 Axes>"
            ],
            "image/png": "[encoded data removed]"
          },
          "metadata": {
            "needs_background": "light"
          }
        }
      ],
      "source": [
        "plt.plot(train_rewards)\n",
        "plt.plot(test_rewards);"
      ]
    },
    {
      "cell_type": "code",
      "execution_count": null,
      "metadata": {
        "colab": {
          "base_uri": "https://localhost:8080/"
        },
        "id": "IGADXfs73A3F",
        "outputId": "f7b36774-50bd-48b3-f7ee-9a58955efa34"
      },
      "outputs": [
        {
          "output_type": "execute_result",
          "data": {
            "text/plain": [
              "(2.7901094939852467, -1.0528103060129457)"
            ]
          },
          "metadata": {},
          "execution_count": 27
        }
      ],
      "source": [
        "train_env.total_buy_and_hold,test_env.total_buy_and_hold\n"
      ]
    }
  ],
  "metadata": {
    "colab": {
      "collapsed_sections": [],
      "name": "crypto_autonomus_trading_reinforcement_learniing_Q-learning",
      "provenance": [],
      "include_colab_link": true
    },
    "kernelspec": {
      "display_name": "Python 3",
      "name": "python3"
    }
  },
  "nbformat": 4,
  "nbformat_minor": 0
}